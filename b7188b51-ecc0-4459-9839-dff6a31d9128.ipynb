{
 "cells": [
  {
   "cell_type": "markdown",
   "metadata": {
    "deletable": false,
    "editable": false,
    "id": "E0vqbgi9ay0H"
   },
   "source": [
    "# Яндекс Музыка"
   ]
  },
  {
   "cell_type": "markdown",
   "metadata": {
    "deletable": false,
    "editable": false,
    "id": "VUC88oWjTJw2"
   },
   "source": [
    "Сравнение Москвы и Петербурга окружено мифами. Например:\n",
    " * Москва — мегаполис, подчинённый жёсткому ритму рабочей недели;\n",
    " * Петербург — культурная столица, со своими вкусами.\n",
    "\n",
    "На данных Яндекс Музыки вы сравните поведение пользователей двух столиц.\n",
    "\n",
    "**Цель исследования** — проверьте три гипотезы:\n",
    "1. Активность пользователей зависит от дня недели. Причём в Москве и Петербурге это проявляется по-разному.\n",
    "2. В понедельник утром в Москве преобладают одни жанры, а в Петербурге — другие. Так же и вечером пятницы преобладают разные жанры — в зависимости от города.\n",
    "3. Москва и Петербург предпочитают разные жанры музыки. В Москве чаще слушают поп-музыку, в Петербурге — русский рэп.\n",
    "\n",
    "**Ход исследования**\n",
    "\n",
    "Данные о поведении пользователей вы получите из файла `yandex_music_project.csv`. О качестве данных ничего не известно. Поэтому перед проверкой гипотез понадобится обзор данных.\n",
    "\n",
    "Вы проверите данные на ошибки и оцените их влияние на исследование. Затем, на этапе предобработки вы поищете возможность исправить самые критичные ошибки данных.\n",
    "\n",
    "Таким образом, исследование пройдёт в три этапа:\n",
    " 1. Обзор данных.\n",
    " 2. Предобработка данных.\n",
    " 3. Проверка гипотез.\n",
    "\n"
   ]
  },
  {
   "cell_type": "markdown",
   "metadata": {
    "deletable": false,
    "editable": false,
    "id": "Ml1hmfXC_Zcs"
   },
   "source": [
    "## Обзор данных\n",
    "\n",
    "Составьте первое представление о данных Яндекс Музыки.\n",
    "\n",
    "\n"
   ]
  },
  {
   "cell_type": "markdown",
   "metadata": {
    "deletable": false,
    "editable": false,
    "id": "57eAOGIz_Zcs",
    "tags": [
     "start_task"
    ]
   },
   "source": [
    "**Задание 1**"
   ]
  },
  {
   "cell_type": "code",
   "execution_count": 1,
   "metadata": {
    "deletable": false,
    "id": "AXN7PHPN_Zcs"
   },
   "outputs": [],
   "source": [
    "import pandas as pd"
   ]
  },
  {
   "cell_type": "markdown",
   "metadata": {
    "deletable": false,
    "editable": false,
    "id": "SG23P8tt_Zcs",
    "tags": [
     "start_task"
    ]
   },
   "source": [
    "**Задание 2**"
   ]
  },
  {
   "cell_type": "code",
   "execution_count": 2,
   "metadata": {
    "deletable": false,
    "id": "fFVu7vqh_Zct"
   },
   "outputs": [],
   "source": [
    "df = pd.read_csv('/datasets/yandex_music_project.csv')"
   ]
  },
  {
   "cell_type": "markdown",
   "metadata": {
    "deletable": false,
    "editable": false,
    "id": "rDoOMd3uTqnZ",
    "tags": [
     "start_task"
    ]
   },
   "source": [
    "**Задание 3**"
   ]
  },
  {
   "cell_type": "code",
   "execution_count": 3,
   "metadata": {
    "deletable": false,
    "id": "oWTVX3gW_Zct"
   },
   "outputs": [
    {
     "data": {
      "text/html": [
       "<div>\n",
       "<style scoped>\n",
       "    .dataframe tbody tr th:only-of-type {\n",
       "        vertical-align: middle;\n",
       "    }\n",
       "\n",
       "    .dataframe tbody tr th {\n",
       "        vertical-align: top;\n",
       "    }\n",
       "\n",
       "    .dataframe thead th {\n",
       "        text-align: right;\n",
       "    }\n",
       "</style>\n",
       "<table border=\"1\" class=\"dataframe\">\n",
       "  <thead>\n",
       "    <tr style=\"text-align: right;\">\n",
       "      <th></th>\n",
       "      <th>userID</th>\n",
       "      <th>Track</th>\n",
       "      <th>artist</th>\n",
       "      <th>genre</th>\n",
       "      <th>City</th>\n",
       "      <th>time</th>\n",
       "      <th>Day</th>\n",
       "    </tr>\n",
       "  </thead>\n",
       "  <tbody>\n",
       "    <tr>\n",
       "      <th>0</th>\n",
       "      <td>FFB692EC</td>\n",
       "      <td>Kamigata To Boots</td>\n",
       "      <td>The Mass Missile</td>\n",
       "      <td>rock</td>\n",
       "      <td>Saint-Petersburg</td>\n",
       "      <td>20:28:33</td>\n",
       "      <td>Wednesday</td>\n",
       "    </tr>\n",
       "    <tr>\n",
       "      <th>1</th>\n",
       "      <td>55204538</td>\n",
       "      <td>Delayed Because of Accident</td>\n",
       "      <td>Andreas Rönnberg</td>\n",
       "      <td>rock</td>\n",
       "      <td>Moscow</td>\n",
       "      <td>14:07:09</td>\n",
       "      <td>Friday</td>\n",
       "    </tr>\n",
       "    <tr>\n",
       "      <th>2</th>\n",
       "      <td>20EC38</td>\n",
       "      <td>Funiculì funiculà</td>\n",
       "      <td>Mario Lanza</td>\n",
       "      <td>pop</td>\n",
       "      <td>Saint-Petersburg</td>\n",
       "      <td>20:58:07</td>\n",
       "      <td>Wednesday</td>\n",
       "    </tr>\n",
       "    <tr>\n",
       "      <th>3</th>\n",
       "      <td>A3DD03C9</td>\n",
       "      <td>Dragons in the Sunset</td>\n",
       "      <td>Fire + Ice</td>\n",
       "      <td>folk</td>\n",
       "      <td>Saint-Petersburg</td>\n",
       "      <td>08:37:09</td>\n",
       "      <td>Monday</td>\n",
       "    </tr>\n",
       "    <tr>\n",
       "      <th>4</th>\n",
       "      <td>E2DC1FAE</td>\n",
       "      <td>Soul People</td>\n",
       "      <td>Space Echo</td>\n",
       "      <td>dance</td>\n",
       "      <td>Moscow</td>\n",
       "      <td>08:34:34</td>\n",
       "      <td>Monday</td>\n",
       "    </tr>\n",
       "    <tr>\n",
       "      <th>5</th>\n",
       "      <td>842029A1</td>\n",
       "      <td>Преданная</td>\n",
       "      <td>IMPERVTOR</td>\n",
       "      <td>rusrap</td>\n",
       "      <td>Saint-Petersburg</td>\n",
       "      <td>13:09:41</td>\n",
       "      <td>Friday</td>\n",
       "    </tr>\n",
       "    <tr>\n",
       "      <th>6</th>\n",
       "      <td>4CB90AA5</td>\n",
       "      <td>True</td>\n",
       "      <td>Roman Messer</td>\n",
       "      <td>dance</td>\n",
       "      <td>Moscow</td>\n",
       "      <td>13:00:07</td>\n",
       "      <td>Wednesday</td>\n",
       "    </tr>\n",
       "    <tr>\n",
       "      <th>7</th>\n",
       "      <td>F03E1C1F</td>\n",
       "      <td>Feeling This Way</td>\n",
       "      <td>Polina Griffith</td>\n",
       "      <td>dance</td>\n",
       "      <td>Moscow</td>\n",
       "      <td>20:47:49</td>\n",
       "      <td>Wednesday</td>\n",
       "    </tr>\n",
       "    <tr>\n",
       "      <th>8</th>\n",
       "      <td>8FA1D3BE</td>\n",
       "      <td>И вновь продолжается бой</td>\n",
       "      <td>NaN</td>\n",
       "      <td>ruspop</td>\n",
       "      <td>Moscow</td>\n",
       "      <td>09:17:40</td>\n",
       "      <td>Friday</td>\n",
       "    </tr>\n",
       "    <tr>\n",
       "      <th>9</th>\n",
       "      <td>E772D5C0</td>\n",
       "      <td>Pessimist</td>\n",
       "      <td>NaN</td>\n",
       "      <td>dance</td>\n",
       "      <td>Saint-Petersburg</td>\n",
       "      <td>21:20:49</td>\n",
       "      <td>Wednesday</td>\n",
       "    </tr>\n",
       "  </tbody>\n",
       "</table>\n",
       "</div>"
      ],
      "text/plain": [
       "     userID                        Track            artist   genre  \\\n",
       "0  FFB692EC            Kamigata To Boots  The Mass Missile    rock   \n",
       "1  55204538  Delayed Because of Accident  Andreas Rönnberg    rock   \n",
       "2    20EC38            Funiculì funiculà       Mario Lanza     pop   \n",
       "3  A3DD03C9        Dragons in the Sunset        Fire + Ice    folk   \n",
       "4  E2DC1FAE                  Soul People        Space Echo   dance   \n",
       "5  842029A1                    Преданная         IMPERVTOR  rusrap   \n",
       "6  4CB90AA5                         True      Roman Messer   dance   \n",
       "7  F03E1C1F             Feeling This Way   Polina Griffith   dance   \n",
       "8  8FA1D3BE     И вновь продолжается бой               NaN  ruspop   \n",
       "9  E772D5C0                    Pessimist               NaN   dance   \n",
       "\n",
       "             City        time        Day  \n",
       "0  Saint-Petersburg  20:28:33  Wednesday  \n",
       "1            Moscow  14:07:09     Friday  \n",
       "2  Saint-Petersburg  20:58:07  Wednesday  \n",
       "3  Saint-Petersburg  08:37:09     Monday  \n",
       "4            Moscow  08:34:34     Monday  \n",
       "5  Saint-Petersburg  13:09:41     Friday  \n",
       "6            Moscow  13:00:07  Wednesday  \n",
       "7            Moscow  20:47:49  Wednesday  \n",
       "8            Moscow  09:17:40     Friday  \n",
       "9  Saint-Petersburg  21:20:49  Wednesday  "
      ]
     },
     "execution_count": 3,
     "metadata": {},
     "output_type": "execute_result"
    }
   ],
   "source": [
    "df.head(10)# получение первых 10 строк таблицы df"
   ]
  },
  {
   "cell_type": "code",
   "execution_count": null,
   "metadata": {},
   "outputs": [],
   "source": []
  },
  {
   "cell_type": "code",
   "execution_count": null,
   "metadata": {},
   "outputs": [],
   "source": []
  },
  {
   "cell_type": "code",
   "execution_count": null,
   "metadata": {},
   "outputs": [],
   "source": []
  },
  {
   "cell_type": "markdown",
   "metadata": {
    "deletable": false,
    "editable": false,
    "id": "EO73Kwic_Zct",
    "tags": [
     "start_task"
    ]
   },
   "source": [
    "**Задание 4**"
   ]
  },
  {
   "cell_type": "code",
   "execution_count": 4,
   "metadata": {
    "deletable": false,
    "id": "DSf2kIb-_Zct"
   },
   "outputs": [
    {
     "name": "stdout",
     "output_type": "stream",
     "text": [
      "<class 'pandas.core.frame.DataFrame'>\n",
      "RangeIndex: 65079 entries, 0 to 65078\n",
      "Data columns (total 7 columns):\n",
      " #   Column    Non-Null Count  Dtype \n",
      "---  ------    --------------  ----- \n",
      " 0     userID  65079 non-null  object\n",
      " 1   Track     63848 non-null  object\n",
      " 2   artist    57876 non-null  object\n",
      " 3   genre     63881 non-null  object\n",
      " 4     City    65079 non-null  object\n",
      " 5   time      65079 non-null  object\n",
      " 6   Day       65079 non-null  object\n",
      "dtypes: object(7)\n",
      "memory usage: 3.5+ MB\n"
     ]
    }
   ],
   "source": [
    "df.info()# получение общей информации о данных в таблице df"
   ]
  },
  {
   "cell_type": "markdown",
   "metadata": {
    "deletable": false,
    "editable": false,
    "id": "TaQ2Iwbr_Zct"
   },
   "source": [
    "Количество значений в столбцах различается. Значит, в данных есть пропущенные значения."
   ]
  },
  {
   "cell_type": "markdown",
   "metadata": {
    "deletable": false,
    "editable": false,
    "id": "4P0UCWzswgEm",
    "tags": [
     "start_task"
    ]
   },
   "source": [
    "**Задание 5**"
   ]
  },
  {
   "cell_type": "code",
   "execution_count": 5,
   "metadata": {
    "id": "c137-ZstwgEm"
   },
   "outputs": [],
   "source": [
    "# нет нижнего подчеркивания"
   ]
  },
  {
   "cell_type": "markdown",
   "metadata": {
    "deletable": false,
    "editable": false,
    "id": "MCB6-dXG_Zct"
   },
   "source": [
    "**Выводы**\n",
    "\n",
    "В каждой строке таблицы — данные о прослушанном треке. Часть колонок описывает саму композицию: название, исполнителя и жанр. Остальные данные рассказывают о пользователе: из какого он города, когда он слушал музыку.\n",
    "\n",
    "Предварительно можно утверждать, что данных достаточно для проверки гипотез. Но встречаются пропуски в данных, а в названиях колонок — расхождения с хорошим стилем.\n",
    "\n",
    "Чтобы двигаться дальше, нужно устранить проблемы в данных."
   ]
  },
  {
   "cell_type": "markdown",
   "metadata": {
    "deletable": false,
    "editable": false,
    "id": "SjYF6Ub9_Zct"
   },
   "source": [
    "## Предобработка данных"
   ]
  },
  {
   "cell_type": "markdown",
   "metadata": {
    "deletable": false,
    "editable": false,
    "id": "dIaKXr29_Zct",
    "tags": [
     "start_task"
    ]
   },
   "source": [
    "### Переименование столбцов\n",
    "\n",
    "**Задание 6**"
   ]
  },
  {
   "cell_type": "code",
   "execution_count": 6,
   "metadata": {
    "deletable": false,
    "id": "oKOTdF_Q_Zct"
   },
   "outputs": [
    {
     "data": {
      "text/plain": [
       "Index(['  userID', 'Track', 'artist', 'genre', '  City  ', 'time', 'Day'], dtype='object')"
      ]
     },
     "execution_count": 6,
     "metadata": {},
     "output_type": "execute_result"
    }
   ],
   "source": [
    "df.columns# перечень названий столбцов таблицы df"
   ]
  },
  {
   "cell_type": "markdown",
   "metadata": {
    "deletable": false,
    "editable": false,
    "id": "zj5534cv_Zct",
    "tags": [
     "start_task"
    ]
   },
   "source": [
    "**Задание 7**"
   ]
  },
  {
   "cell_type": "code",
   "execution_count": 7,
   "metadata": {
    "deletable": false,
    "id": "ISlFqs5y_Zct"
   },
   "outputs": [],
   "source": [
    "df = df.rename(columns = {'  userID' : 'user_id', 'Track' : 'track', '  City  ' : 'city', 'Day' : 'day'})# переименование столбцов"
   ]
  },
  {
   "cell_type": "markdown",
   "metadata": {
    "deletable": false,
    "editable": false,
    "id": "1dqbh00J_Zct",
    "tags": [
     "start_task"
    ]
   },
   "source": [
    "**Задание 8**"
   ]
  },
  {
   "cell_type": "code",
   "execution_count": 8,
   "metadata": {
    "deletable": false,
    "id": "d4NOAmTW_Zct"
   },
   "outputs": [
    {
     "data": {
      "text/plain": [
       "Index(['user_id', 'track', 'artist', 'genre', 'city', 'time', 'day'], dtype='object')"
      ]
     },
     "execution_count": 8,
     "metadata": {},
     "output_type": "execute_result"
    }
   ],
   "source": [
    "df.columns# проверка результатов - перечень названий столбцов"
   ]
  },
  {
   "cell_type": "markdown",
   "metadata": {
    "deletable": false,
    "editable": false,
    "id": "5ISfbcfY_Zct",
    "tags": [
     "start_task"
    ]
   },
   "source": [
    "### Обработка пропущенных значений\n",
    "\n",
    "**Задание 9**"
   ]
  },
  {
   "cell_type": "code",
   "execution_count": 9,
   "metadata": {
    "deletable": false,
    "id": "RskX29qr_Zct"
   },
   "outputs": [
    {
     "data": {
      "text/plain": [
       "user_id       0\n",
       "track      1231\n",
       "artist     7203\n",
       "genre      1198\n",
       "city          0\n",
       "time          0\n",
       "day           0\n",
       "dtype: int64"
      ]
     },
     "execution_count": 9,
     "metadata": {},
     "output_type": "execute_result"
    }
   ],
   "source": [
    "df.isna().sum()# подсчёт пропусков"
   ]
  },
  {
   "cell_type": "markdown",
   "metadata": {
    "deletable": false,
    "editable": false,
    "id": "fSv2laPA_Zct",
    "tags": [
     "start_task"
    ]
   },
   "source": [
    "**Задание 10**"
   ]
  },
  {
   "cell_type": "code",
   "execution_count": 10,
   "metadata": {
    "deletable": false,
    "id": "KplB5qWs_Zct"
   },
   "outputs": [],
   "source": [
    "columns_to_replace = ['track', 'artist', 'genre']\n",
    "for me in columns_to_replace:\n",
    "    df[me] = df[me].fillna('unknown')# замена пропущенных значений на 'unknown'"
   ]
  },
  {
   "cell_type": "markdown",
   "metadata": {
    "deletable": false,
    "editable": false,
    "id": "Ilsm-MZo_Zct",
    "tags": [
     "start_task"
    ]
   },
   "source": [
    "**Задание 11**"
   ]
  },
  {
   "cell_type": "code",
   "execution_count": 11,
   "metadata": {
    "deletable": false,
    "id": "Tq4nYRX4_Zct"
   },
   "outputs": [
    {
     "data": {
      "text/plain": [
       "user_id    0\n",
       "track      0\n",
       "artist     0\n",
       "genre      0\n",
       "city       0\n",
       "time       0\n",
       "day        0\n",
       "dtype: int64"
      ]
     },
     "execution_count": 11,
     "metadata": {},
     "output_type": "execute_result"
    }
   ],
   "source": [
    "df.isna().sum()# проверка на отсутствие пропусков"
   ]
  },
  {
   "cell_type": "markdown",
   "metadata": {
    "deletable": false,
    "editable": false,
    "id": "BWKRtBJ3_Zct",
    "tags": [
     "start_task"
    ]
   },
   "source": [
    "### Обработка дубликатов\n",
    "\n",
    "**Задание 12**"
   ]
  },
  {
   "cell_type": "code",
   "execution_count": 12,
   "metadata": {
    "deletable": false,
    "id": "36eES_S0_Zct"
   },
   "outputs": [
    {
     "data": {
      "text/plain": [
       "3826"
      ]
     },
     "execution_count": 12,
     "metadata": {},
     "output_type": "execute_result"
    }
   ],
   "source": [
    "df.duplicated().sum()# подсчёт явных дубликатов"
   ]
  },
  {
   "cell_type": "markdown",
   "metadata": {
    "deletable": false,
    "editable": false,
    "id": "Ot25h6XR_Zct",
    "tags": [
     "start_task"
    ]
   },
   "source": [
    "**Задание 13**"
   ]
  },
  {
   "cell_type": "code",
   "execution_count": 13,
   "metadata": {
    "deletable": false,
    "id": "exFHq6tt_Zct"
   },
   "outputs": [],
   "source": [
    "df = df.drop_duplicates().reset_index(drop = True)# удаление явных дубликатов, создание новых индексов и удаление старых"
   ]
  },
  {
   "cell_type": "markdown",
   "metadata": {
    "deletable": false,
    "editable": false,
    "id": "Im2YwBEG_Zct",
    "tags": [
     "start_task"
    ]
   },
   "source": [
    "**Задание 14**"
   ]
  },
  {
   "cell_type": "code",
   "execution_count": 14,
   "metadata": {
    "deletable": false,
    "id": "-8PuNWQ0_Zct"
   },
   "outputs": [
    {
     "data": {
      "text/plain": [
       "0"
      ]
     },
     "execution_count": 14,
     "metadata": {},
     "output_type": "execute_result"
    }
   ],
   "source": [
    "df.duplicated().sum()# проверка на отсутствие явных дубликатов"
   ]
  },
  {
   "cell_type": "markdown",
   "metadata": {
    "deletable": false,
    "editable": false,
    "id": "eSjWwsOh_Zct",
    "tags": [
     "start_task"
    ]
   },
   "source": [
    "**Задание 15**"
   ]
  },
  {
   "cell_type": "code",
   "execution_count": 15,
   "metadata": {
    "deletable": false,
    "id": "JIUcqzZN_Zct"
   },
   "outputs": [
    {
     "data": {
      "text/plain": [
       "array(['acid', 'acoustic', 'action', 'adult', 'africa', 'afrikaans',\n",
       "       'alternative', 'alternativepunk', 'ambient', 'americana',\n",
       "       'animated', 'anime', 'arabesk', 'arabic', 'arena',\n",
       "       'argentinetango', 'art', 'audiobook', 'author', 'avantgarde',\n",
       "       'axé', 'baile', 'balkan', 'beats', 'bigroom', 'black', 'bluegrass',\n",
       "       'blues', 'bollywood', 'bossa', 'brazilian', 'breakbeat', 'breaks',\n",
       "       'broadway', 'cantautori', 'cantopop', 'canzone', 'caribbean',\n",
       "       'caucasian', 'celtic', 'chamber', 'chanson', 'children', 'chill',\n",
       "       'chinese', 'choral', 'christian', 'christmas', 'classical',\n",
       "       'classicmetal', 'club', 'colombian', 'comedy', 'conjazz',\n",
       "       'contemporary', 'country', 'cuban', 'dance', 'dancehall',\n",
       "       'dancepop', 'dark', 'death', 'deep', 'deutschrock', 'deutschspr',\n",
       "       'dirty', 'disco', 'dnb', 'documentary', 'downbeat', 'downtempo',\n",
       "       'drum', 'dub', 'dubstep', 'eastern', 'easy', 'electronic',\n",
       "       'electropop', 'emo', 'entehno', 'epicmetal', 'estrada', 'ethnic',\n",
       "       'eurofolk', 'european', 'experimental', 'extrememetal', 'fado',\n",
       "       'fairytail', 'film', 'fitness', 'flamenco', 'folk', 'folklore',\n",
       "       'folkmetal', 'folkrock', 'folktronica', 'forró', 'frankreich',\n",
       "       'französisch', 'french', 'funk', 'future', 'gangsta', 'garage',\n",
       "       'german', 'ghazal', 'gitarre', 'glitch', 'gospel', 'gothic',\n",
       "       'grime', 'grunge', 'gypsy', 'handsup', \"hard'n'heavy\", 'hardcore',\n",
       "       'hardstyle', 'hardtechno', 'hip', 'hip-hop', 'hiphop',\n",
       "       'historisch', 'holiday', 'hop', 'horror', 'house', 'hymn', 'idm',\n",
       "       'independent', 'indian', 'indie', 'indipop', 'industrial',\n",
       "       'inspirational', 'instrumental', 'international', 'irish', 'jam',\n",
       "       'japanese', 'jazz', 'jewish', 'jpop', 'jungle', 'k-pop',\n",
       "       'karadeniz', 'karaoke', 'kayokyoku', 'korean', 'laiko', 'latin',\n",
       "       'latino', 'leftfield', 'local', 'lounge', 'loungeelectronic',\n",
       "       'lovers', 'malaysian', 'mandopop', 'marschmusik', 'meditative',\n",
       "       'mediterranean', 'melodic', 'metal', 'metalcore', 'mexican',\n",
       "       'middle', 'minimal', 'miscellaneous', 'modern', 'mood', 'mpb',\n",
       "       'muslim', 'native', 'neoklassik', 'neue', 'new', 'newage',\n",
       "       'newwave', 'nu', 'nujazz', 'numetal', 'oceania', 'old', 'opera',\n",
       "       'orchestral', 'other', 'piano', 'podcasts', 'pop', 'popdance',\n",
       "       'popelectronic', 'popeurodance', 'poprussian', 'post',\n",
       "       'posthardcore', 'postrock', 'power', 'progmetal', 'progressive',\n",
       "       'psychedelic', 'punjabi', 'punk', 'quebecois', 'ragga', 'ram',\n",
       "       'rancheras', 'rap', 'rave', 'reggae', 'reggaeton', 'regional',\n",
       "       'relax', 'religious', 'retro', 'rhythm', 'rnb', 'rnr', 'rock',\n",
       "       'rockabilly', 'rockalternative', 'rockindie', 'rockother',\n",
       "       'romance', 'roots', 'ruspop', 'rusrap', 'rusrock', 'russian',\n",
       "       'salsa', 'samba', 'scenic', 'schlager', 'self', 'sertanejo',\n",
       "       'shanson', 'shoegazing', 'showtunes', 'singer', 'ska', 'skarock',\n",
       "       'slow', 'smooth', 'soft', 'soul', 'soulful', 'sound', 'soundtrack',\n",
       "       'southern', 'specialty', 'speech', 'spiritual', 'sport',\n",
       "       'stonerrock', 'surf', 'swing', 'synthpop', 'synthrock',\n",
       "       'sängerportrait', 'tango', 'tanzorchester', 'taraftar', 'tatar',\n",
       "       'tech', 'techno', 'teen', 'thrash', 'top', 'traditional',\n",
       "       'tradjazz', 'trance', 'tribal', 'trip', 'triphop', 'tropical',\n",
       "       'türk', 'türkçe', 'ukrrock', 'unknown', 'urban', 'uzbek',\n",
       "       'variété', 'vi', 'videogame', 'vocal', 'western', 'world',\n",
       "       'worldbeat', 'ïîï', 'электроника'], dtype=object)"
      ]
     },
     "execution_count": 15,
     "metadata": {},
     "output_type": "execute_result"
    }
   ],
   "source": [
    "df['genre'].count()\n",
    "df['genre'].sort_values().unique()\n",
    "\n",
    "# просмотр уникальных отсортированных названий жанров"
   ]
  },
  {
   "cell_type": "markdown",
   "metadata": {
    "deletable": false,
    "editable": false,
    "id": "qej-Qmuo_Zct",
    "tags": [
     "start_task"
    ]
   },
   "source": [
    "**Задание 16**"
   ]
  },
  {
   "cell_type": "code",
   "execution_count": 16,
   "metadata": {
    "deletable": false,
    "id": "ErNDkmns_Zct"
   },
   "outputs": [],
   "source": [
    "duplicates = ['hip', 'hop', 'hip-hop'] # список неправильных имён\n",
    "genre = 'hiphop' # правильное имя\n",
    "df['genre'] = df['genre'].replace(duplicates, genre) # устранение неявных дубликатов\n",
    "\n"
   ]
  },
  {
   "cell_type": "markdown",
   "metadata": {
    "deletable": false,
    "editable": false,
    "id": "zQKF16_RG15m",
    "tags": [
     "start_task"
    ]
   },
   "source": [
    "**Задание 17**"
   ]
  },
  {
   "cell_type": "code",
   "execution_count": 17,
   "metadata": {
    "deletable": false,
    "id": "wvixALnFG15m"
   },
   "outputs": [
    {
     "data": {
      "text/plain": [
       "array(['acid', 'acoustic', 'action', 'adult', 'africa', 'afrikaans',\n",
       "       'alternative', 'alternativepunk', 'ambient', 'americana',\n",
       "       'animated', 'anime', 'arabesk', 'arabic', 'arena',\n",
       "       'argentinetango', 'art', 'audiobook', 'author', 'avantgarde',\n",
       "       'axé', 'baile', 'balkan', 'beats', 'bigroom', 'black', 'bluegrass',\n",
       "       'blues', 'bollywood', 'bossa', 'brazilian', 'breakbeat', 'breaks',\n",
       "       'broadway', 'cantautori', 'cantopop', 'canzone', 'caribbean',\n",
       "       'caucasian', 'celtic', 'chamber', 'chanson', 'children', 'chill',\n",
       "       'chinese', 'choral', 'christian', 'christmas', 'classical',\n",
       "       'classicmetal', 'club', 'colombian', 'comedy', 'conjazz',\n",
       "       'contemporary', 'country', 'cuban', 'dance', 'dancehall',\n",
       "       'dancepop', 'dark', 'death', 'deep', 'deutschrock', 'deutschspr',\n",
       "       'dirty', 'disco', 'dnb', 'documentary', 'downbeat', 'downtempo',\n",
       "       'drum', 'dub', 'dubstep', 'eastern', 'easy', 'electronic',\n",
       "       'electropop', 'emo', 'entehno', 'epicmetal', 'estrada', 'ethnic',\n",
       "       'eurofolk', 'european', 'experimental', 'extrememetal', 'fado',\n",
       "       'fairytail', 'film', 'fitness', 'flamenco', 'folk', 'folklore',\n",
       "       'folkmetal', 'folkrock', 'folktronica', 'forró', 'frankreich',\n",
       "       'französisch', 'french', 'funk', 'future', 'gangsta', 'garage',\n",
       "       'german', 'ghazal', 'gitarre', 'glitch', 'gospel', 'gothic',\n",
       "       'grime', 'grunge', 'gypsy', 'handsup', \"hard'n'heavy\", 'hardcore',\n",
       "       'hardstyle', 'hardtechno', 'hiphop', 'historisch', 'holiday',\n",
       "       'horror', 'house', 'hymn', 'idm', 'independent', 'indian', 'indie',\n",
       "       'indipop', 'industrial', 'inspirational', 'instrumental',\n",
       "       'international', 'irish', 'jam', 'japanese', 'jazz', 'jewish',\n",
       "       'jpop', 'jungle', 'k-pop', 'karadeniz', 'karaoke', 'kayokyoku',\n",
       "       'korean', 'laiko', 'latin', 'latino', 'leftfield', 'local',\n",
       "       'lounge', 'loungeelectronic', 'lovers', 'malaysian', 'mandopop',\n",
       "       'marschmusik', 'meditative', 'mediterranean', 'melodic', 'metal',\n",
       "       'metalcore', 'mexican', 'middle', 'minimal', 'miscellaneous',\n",
       "       'modern', 'mood', 'mpb', 'muslim', 'native', 'neoklassik', 'neue',\n",
       "       'new', 'newage', 'newwave', 'nu', 'nujazz', 'numetal', 'oceania',\n",
       "       'old', 'opera', 'orchestral', 'other', 'piano', 'podcasts', 'pop',\n",
       "       'popdance', 'popelectronic', 'popeurodance', 'poprussian', 'post',\n",
       "       'posthardcore', 'postrock', 'power', 'progmetal', 'progressive',\n",
       "       'psychedelic', 'punjabi', 'punk', 'quebecois', 'ragga', 'ram',\n",
       "       'rancheras', 'rap', 'rave', 'reggae', 'reggaeton', 'regional',\n",
       "       'relax', 'religious', 'retro', 'rhythm', 'rnb', 'rnr', 'rock',\n",
       "       'rockabilly', 'rockalternative', 'rockindie', 'rockother',\n",
       "       'romance', 'roots', 'ruspop', 'rusrap', 'rusrock', 'russian',\n",
       "       'salsa', 'samba', 'scenic', 'schlager', 'self', 'sertanejo',\n",
       "       'shanson', 'shoegazing', 'showtunes', 'singer', 'ska', 'skarock',\n",
       "       'slow', 'smooth', 'soft', 'soul', 'soulful', 'sound', 'soundtrack',\n",
       "       'southern', 'specialty', 'speech', 'spiritual', 'sport',\n",
       "       'stonerrock', 'surf', 'swing', 'synthpop', 'synthrock',\n",
       "       'sängerportrait', 'tango', 'tanzorchester', 'taraftar', 'tatar',\n",
       "       'tech', 'techno', 'teen', 'thrash', 'top', 'traditional',\n",
       "       'tradjazz', 'trance', 'tribal', 'trip', 'triphop', 'tropical',\n",
       "       'türk', 'türkçe', 'ukrrock', 'unknown', 'urban', 'uzbek',\n",
       "       'variété', 'vi', 'videogame', 'vocal', 'western', 'world',\n",
       "       'worldbeat', 'ïîï', 'электроника'], dtype=object)"
      ]
     },
     "execution_count": 17,
     "metadata": {},
     "output_type": "execute_result"
    }
   ],
   "source": [
    "df['genre'].sort_values().unique()# проверка на отсутствие неявных дубликатов"
   ]
  },
  {
   "cell_type": "markdown",
   "metadata": {
    "deletable": false,
    "editable": false,
    "id": "jz6a9-7HQUDd"
   },
   "source": [
    "**Выводы**\n",
    "\n",
    "Предобработка обнаружила три проблемы в данных:\n",
    "\n",
    "- нарушения в стиле заголовков,\n",
    "- пропущенные значения,\n",
    "- дубликаты — явные и неявные.\n",
    "\n",
    "Вы исправили заголовки, чтобы упростить работу с таблицей. Без дубликатов исследование станет более точным.\n",
    "\n",
    "Пропущенные значения вы заменили на `'unknown'`. Ещё предстоит увидеть, не повредят ли исследованию пропуски в колонке `genre`.\n",
    "\n",
    "Теперь можно перейти к проверке гипотез."
   ]
  },
  {
   "cell_type": "markdown",
   "metadata": {
    "deletable": false,
    "editable": false,
    "id": "WttZHXH0SqKk"
   },
   "source": [
    "## Проверка гипотез"
   ]
  },
  {
   "cell_type": "markdown",
   "metadata": {
    "deletable": false,
    "editable": false,
    "id": "Im936VVi_Zcu"
   },
   "source": [
    "### Сравнение поведения пользователей двух столиц"
   ]
  },
  {
   "cell_type": "markdown",
   "metadata": {
    "deletable": false,
    "editable": false,
    "id": "nwt_MuaL_Zcu"
   },
   "source": [
    "Первая гипотеза утверждает, что пользователи по-разному слушают музыку в Москве и Санкт-Петербурге. Проверим это предположение по данным о трёх днях недели — понедельнике, среде и пятнице. Для этого:\n",
    "\n",
    "* Разделим пользователей Москвы и Санкт-Петербурга.\n",
    "* Сравним, сколько треков послушала каждая группа пользователей в понедельник, среду и пятницу.\n"
   ]
  },
  {
   "cell_type": "markdown",
   "metadata": {
    "deletable": false,
    "id": "8Dw_YMmT_Zcu",
    "tags": [
     "start_task"
    ]
   },
   "source": [
    "**Задание 18**\n",
    "\n"
   ]
  },
  {
   "cell_type": "code",
   "execution_count": 18,
   "metadata": {
    "deletable": false,
    "id": "0_Qs96oh_Zcu"
   },
   "outputs": [
    {
     "name": "stdout",
     "output_type": "stream",
     "text": [
      "city\n",
      "Moscow              42741\n",
      "Saint-Petersburg    18512\n",
      "Name: time, dtype: int64\n"
     ]
    }
   ],
   "source": [
    "city = df.groupby('city')['time'].count()\n",
    "\n",
    "print(city)# подсчёт прослушиваний в каждом городе\n"
   ]
  },
  {
   "cell_type": "markdown",
   "metadata": {
    "id": "dzli3w8o_Zcu",
    "tags": [
     "start_task"
    ]
   },
   "source": [
    "**Задание 19**\n"
   ]
  },
  {
   "cell_type": "code",
   "execution_count": 19,
   "metadata": {
    "deletable": false,
    "id": "uZMKjiJz_Zcu"
   },
   "outputs": [
    {
     "name": "stdout",
     "output_type": "stream",
     "text": [
      "day\n",
      "Friday       21840\n",
      "Monday       21354\n",
      "Wednesday    18059\n",
      "Name: time, dtype: int64\n"
     ]
    }
   ],
   "source": [
    "day = df.groupby('day')['time'].count()\n",
    "print(day)# подсчёт прослушиваний в каждый из трёх дней"
   ]
  },
  {
   "cell_type": "markdown",
   "metadata": {
    "deletable": false,
    "editable": false,
    "id": "POzs8bGa_Zcu",
    "tags": [
     "start_task"
    ]
   },
   "source": [
    "**Задание 20**"
   ]
  },
  {
   "cell_type": "code",
   "execution_count": 20,
   "metadata": {
    "deletable": false,
    "id": "Nz3GdQB1_Zcu"
   },
   "outputs": [],
   "source": [
    "def number_tracks(day, city):\n",
    "    track_list = df[df['day'] == day]# выберите только строки df со значением переменной day в столбце day\n",
    "    track_list = track_list[track_list['city'] == city]# выберите только строки track_list со значением переменной city в столбце city\n",
    "    track_list_count = track_list['user_id'].count()# вызовите метод подсчета строк для track_list и выберите столбец user_id\n",
    "    return track_list_count # верните значение track_list_count из функции"
   ]
  },
  {
   "cell_type": "markdown",
   "metadata": {
    "deletable": false,
    "editable": false,
    "id": "ytf7xFrFJQ2r",
    "tags": [
     "start_task"
    ]
   },
   "source": [
    "**Задание 21**"
   ]
  },
  {
   "cell_type": "code",
   "execution_count": 21,
   "metadata": {
    "deletable": false,
    "id": "rJcRATNQ_Zcu"
   },
   "outputs": [
    {
     "data": {
      "text/plain": [
       "15740"
      ]
     },
     "execution_count": 21,
     "metadata": {},
     "output_type": "execute_result"
    }
   ],
   "source": [
    "number_tracks('Monday', 'Moscow')# количество прослушиваний в Москве по понедельникам"
   ]
  },
  {
   "cell_type": "code",
   "execution_count": 22,
   "metadata": {
    "deletable": false,
    "id": "hq_ncZ5T_Zcu"
   },
   "outputs": [
    {
     "data": {
      "text/plain": [
       "5614"
      ]
     },
     "execution_count": 22,
     "metadata": {},
     "output_type": "execute_result"
    }
   ],
   "source": [
    "number_tracks('Monday', 'Saint-Petersburg')# количество прослушиваний в Санкт-Петербурге по понедельникам"
   ]
  },
  {
   "cell_type": "code",
   "execution_count": 23,
   "metadata": {
    "deletable": false,
    "id": "_NTy2VPU_Zcu"
   },
   "outputs": [
    {
     "data": {
      "text/plain": [
       "11056"
      ]
     },
     "execution_count": 23,
     "metadata": {},
     "output_type": "execute_result"
    }
   ],
   "source": [
    "number_tracks('Wednesday', 'Moscow')# количество прослушиваний в Москве по средам"
   ]
  },
  {
   "cell_type": "code",
   "execution_count": 24,
   "metadata": {
    "deletable": false,
    "id": "j2y3TAwo_Zcu"
   },
   "outputs": [
    {
     "data": {
      "text/plain": [
       "7003"
      ]
     },
     "execution_count": 24,
     "metadata": {},
     "output_type": "execute_result"
    }
   ],
   "source": [
    "number_tracks('Wednesday', 'Saint-Petersburg')# количество прослушиваний в Санкт-Петербурге по средам"
   ]
  },
  {
   "cell_type": "code",
   "execution_count": 25,
   "metadata": {
    "deletable": false,
    "id": "vYDw5u_K_Zcu"
   },
   "outputs": [
    {
     "data": {
      "text/plain": [
       "15945"
      ]
     },
     "execution_count": 25,
     "metadata": {},
     "output_type": "execute_result"
    }
   ],
   "source": [
    "number_tracks('Friday', 'Moscow')# количество прослушиваний в Москве по пятницам"
   ]
  },
  {
   "cell_type": "code",
   "execution_count": 26,
   "metadata": {
    "deletable": false,
    "id": "8_yzFtW3_Zcu"
   },
   "outputs": [
    {
     "data": {
      "text/plain": [
       "5895"
      ]
     },
     "execution_count": 26,
     "metadata": {},
     "output_type": "execute_result"
    }
   ],
   "source": [
    "number_tracks('Friday', 'Saint-Petersburg')# количество прослушиваний в Санкт-Петербурге по пятницам"
   ]
  },
  {
   "cell_type": "markdown",
   "metadata": {
    "deletable": false,
    "editable": false,
    "id": "7QXffbO-_Zcu",
    "tags": [
     "start_task"
    ]
   },
   "source": [
    "**Задание 22**"
   ]
  },
  {
   "cell_type": "code",
   "execution_count": 27,
   "metadata": {
    "deletable": false,
    "id": "APAcLpOr_Zcu"
   },
   "outputs": [
    {
     "data": {
      "text/html": [
       "<div>\n",
       "<style scoped>\n",
       "    .dataframe tbody tr th:only-of-type {\n",
       "        vertical-align: middle;\n",
       "    }\n",
       "\n",
       "    .dataframe tbody tr th {\n",
       "        vertical-align: top;\n",
       "    }\n",
       "\n",
       "    .dataframe thead th {\n",
       "        text-align: right;\n",
       "    }\n",
       "</style>\n",
       "<table border=\"1\" class=\"dataframe\">\n",
       "  <thead>\n",
       "    <tr style=\"text-align: right;\">\n",
       "      <th></th>\n",
       "      <th>city</th>\n",
       "      <th>monday</th>\n",
       "      <th>wednesday</th>\n",
       "      <th>friday</th>\n",
       "    </tr>\n",
       "  </thead>\n",
       "  <tbody>\n",
       "    <tr>\n",
       "      <th>0</th>\n",
       "      <td>Москва</td>\n",
       "      <td>15740</td>\n",
       "      <td>11056</td>\n",
       "      <td>15945</td>\n",
       "    </tr>\n",
       "    <tr>\n",
       "      <th>1</th>\n",
       "      <td>Санкт-Петербург</td>\n",
       "      <td>5614</td>\n",
       "      <td>7003</td>\n",
       "      <td>5895</td>\n",
       "    </tr>\n",
       "  </tbody>\n",
       "</table>\n",
       "</div>"
      ],
      "text/plain": [
       "              city  monday  wednesday  friday\n",
       "0           Москва   15740      11056   15945\n",
       "1  Санкт-Петербург    5614       7003    5895"
      ]
     },
     "execution_count": 27,
     "metadata": {},
     "output_type": "execute_result"
    }
   ],
   "source": [
    "info = pd.DataFrame(data=[['Москва', 15740, 11056, 15945], ['Санкт-Петербург', 5614, 7003, 5895]], columns=['city', 'monday', 'wednesday', 'friday']) \n",
    "info  # вывод таблицы на экран"
   ]
  },
  {
   "cell_type": "markdown",
   "metadata": {
    "deletable": false,
    "editable": false,
    "id": "-EgPIHYu_Zcu"
   },
   "source": [
    "**Выводы**\n",
    "\n",
    "Данные показывают разницу поведения пользователей:\n",
    "\n",
    "- В Москве пик прослушиваний приходится на понедельник и пятницу, а в среду заметен спад.\n",
    "- В Петербурге, наоборот, больше слушают музыку по средам. Активность в понедельник и пятницу здесь почти в равной мере уступает среде.\n",
    "\n",
    "Значит, данные говорят в пользу первой гипотезы."
   ]
  },
  {
   "cell_type": "markdown",
   "metadata": {
    "deletable": false,
    "editable": false,
    "id": "atZAxtq4_Zcu"
   },
   "source": [
    "### Музыка в начале и в конце недели"
   ]
  },
  {
   "cell_type": "markdown",
   "metadata": {
    "deletable": false,
    "editable": false,
    "id": "eXrQqXFH_Zcu"
   },
   "source": [
    "Согласно второй гипотезе, утром в понедельник в Москве преобладают одни жанры, а в Петербурге — другие. Так же и вечером пятницы преобладают разные жанры — в зависимости от города."
   ]
  },
  {
   "cell_type": "markdown",
   "metadata": {
    "deletable": false,
    "editable": false,
    "id": "S8UcW6Hw_Zcu",
    "tags": [
     "start_task"
    ]
   },
   "source": [
    "**Задание 23**"
   ]
  },
  {
   "cell_type": "code",
   "execution_count": 28,
   "metadata": {
    "deletable": false,
    "id": "qeaFfM_P_Zcu"
   },
   "outputs": [],
   "source": [
    "# получение таблицы moscow_general из тех строк таблицы df, для которых значение в столбце 'city' равно 'Moscow'\n",
    "moscow_general = df[df['city'] == 'Moscow']\n"
   ]
  },
  {
   "cell_type": "code",
   "execution_count": 29,
   "metadata": {
    "deletable": false,
    "id": "ORaVRKto_Zcu"
   },
   "outputs": [],
   "source": [
    "# получение таблицы spb_general из тех строк таблицы df, для которых значение в столбце 'city' равно 'Saint-Petersburg'\n",
    "spb_general = df[df['city'] == 'Saint-Petersburg']\n"
   ]
  },
  {
   "cell_type": "markdown",
   "metadata": {
    "deletable": false,
    "editable": false,
    "id": "MEJV-CX2_Zcu",
    "tags": [
     "start_task"
    ]
   },
   "source": [
    "**Задание 24**"
   ]
  },
  {
   "cell_type": "code",
   "execution_count": 30,
   "metadata": {
    "deletable": false,
    "id": "laJT9BYl_Zcu"
   },
   "outputs": [],
   "source": [
    "def genre_weekday(df, day, time1, time2):\n",
    "    # последовательная фильтрация\n",
    "    # оставляем в genre_df только те строки df, у которых день равен day\n",
    "    genre_df = df[df['day'] == day]# ваш код здесь\n",
    "    # оставляем в genre_df только те строки genre_df, у которых время меньше time2\n",
    "    genre_df = genre_df[genre_df['time'] < time2]# ваш код здесь\n",
    "    # оставляем в genre_df только те строки genre_df, у которых время больше time1\n",
    "    genre_df = genre_df[genre_df['time'] > time1]# ваш код здесь\n",
    "    # сгруппируем отфильтрованный датафрейм по столбцу с названиями жанров, возьмём столбец genre и посчитаем кол-во строк для каждого жанра методом count()\n",
    "    genre_df_grouped = genre_df.groupby('genre')['genre'].count()# ваш код здесь\n",
    "    # отсортируем результат по убыванию (чтобы в начале Series оказались самые популярные жанры)\n",
    "    genre_df_sorted = genre_df_grouped.sort_values(ascending=False)# ваш код здесь\n",
    "    # вернём Series с 10 самыми популярными жанрами в указанный отрезок времени заданного дня\n",
    "    return genre_df_sorted[:10]"
   ]
  },
  {
   "cell_type": "markdown",
   "metadata": {
    "deletable": false,
    "editable": false,
    "id": "la2s2_PF_Zcu",
    "tags": [
     "start_task"
    ]
   },
   "source": [
    "**Задание 25**"
   ]
  },
  {
   "cell_type": "code",
   "execution_count": 31,
   "metadata": {
    "deletable": false,
    "id": "yz7itPUQ_Zcu"
   },
   "outputs": [
    {
     "data": {
      "text/plain": [
       "genre\n",
       "pop            781\n",
       "dance          549\n",
       "electronic     480\n",
       "rock           474\n",
       "hiphop         286\n",
       "ruspop         186\n",
       "world          181\n",
       "rusrap         175\n",
       "alternative    164\n",
       "unknown        161\n",
       "Name: genre, dtype: int64"
      ]
     },
     "execution_count": 31,
     "metadata": {},
     "output_type": "execute_result"
    }
   ],
   "source": [
    "genre_weekday(moscow_general, 'Monday', '07:00', '11:00')# вызов функции для утра понедельника в Москве (вместо df — таблица moscow_general)"
   ]
  },
  {
   "cell_type": "code",
   "execution_count": 32,
   "metadata": {
    "deletable": false,
    "id": "kwUcHPdy_Zcu"
   },
   "outputs": [
    {
     "data": {
      "text/plain": [
       "genre\n",
       "pop            218\n",
       "dance          182\n",
       "rock           162\n",
       "electronic     147\n",
       "hiphop          80\n",
       "ruspop          64\n",
       "alternative     58\n",
       "rusrap          55\n",
       "jazz            44\n",
       "classical       40\n",
       "Name: genre, dtype: int64"
      ]
     },
     "execution_count": 32,
     "metadata": {},
     "output_type": "execute_result"
    }
   ],
   "source": [
    "genre_weekday(spb_general, 'Monday', '07:00', '11:00')# вызов функции для утра понедельника в Петербурге (вместо df — таблица spb_general)"
   ]
  },
  {
   "cell_type": "code",
   "execution_count": 33,
   "metadata": {
    "deletable": false,
    "id": "EzXVRE1o_Zcu"
   },
   "outputs": [
    {
     "data": {
      "text/plain": [
       "genre\n",
       "pop            713\n",
       "rock           517\n",
       "dance          495\n",
       "electronic     482\n",
       "hiphop         273\n",
       "world          208\n",
       "ruspop         170\n",
       "alternative    163\n",
       "classical      163\n",
       "rusrap         142\n",
       "Name: genre, dtype: int64"
      ]
     },
     "execution_count": 33,
     "metadata": {},
     "output_type": "execute_result"
    }
   ],
   "source": [
    "genre_weekday(moscow_general, 'Friday', '17:00', '23:00')# вызов функции для вечера пятницы в Москве"
   ]
  },
  {
   "cell_type": "code",
   "execution_count": 34,
   "metadata": {
    "deletable": false,
    "id": "JZaEKu5v_Zcu"
   },
   "outputs": [
    {
     "data": {
      "text/plain": [
       "genre\n",
       "pop            256\n",
       "electronic     216\n",
       "rock           216\n",
       "dance          210\n",
       "hiphop          97\n",
       "alternative     63\n",
       "jazz            61\n",
       "classical       60\n",
       "rusrap          59\n",
       "world           54\n",
       "Name: genre, dtype: int64"
      ]
     },
     "execution_count": 34,
     "metadata": {},
     "output_type": "execute_result"
    }
   ],
   "source": [
    "genre_weekday(spb_general, 'Friday', '17:00', '23:00')# вызов функции для вечера пятницы в Петербурге"
   ]
  },
  {
   "cell_type": "markdown",
   "metadata": {
    "deletable": false,
    "editable": false,
    "id": "wrCe4MNX_Zcu"
   },
   "source": [
    "**Выводы**\n",
    "\n",
    "Если сравнить топ-10 жанров в понедельник утром, можно сделать такие выводы:\n",
    "\n",
    "1. В Москве и Петербурге слушают похожую музыку. Единственное различие — в московский рейтинг вошёл жанр “world”, а в петербургский — джаз и классика.\n",
    "\n",
    "2. В Москве пропущенных значений оказалось так много, что значение `'unknown'` заняло десятое место среди самых популярных жанров. Значит, пропущенные значения занимают существенную долю в данных и угрожают достоверности исследования.\n",
    "\n",
    "Вечер пятницы не меняет эту картину. Некоторые жанры поднимаются немного выше, другие спускаются, но в целом топ-10 остаётся тем же самым.\n",
    "\n",
    "Таким образом, вторая гипотеза подтвердилась лишь частично:\n",
    "* Пользователи слушают похожую музыку в начале недели и в конце.\n",
    "* Разница между Москвой и Петербургом не слишком выражена. В Москве чаще слушают русскую популярную музыку, в Петербурге — джаз.\n",
    "\n",
    "Однако пропуски в данных ставят под сомнение этот результат. В Москве их так много, что рейтинг топ-10 мог бы выглядеть иначе, если бы не утерянные  данные о жанрах."
   ]
  },
  {
   "cell_type": "markdown",
   "metadata": {
    "deletable": false,
    "editable": false,
    "id": "JolODAqr_Zcu"
   },
   "source": [
    "### Жанровые предпочтения в Москве и Петербурге\n",
    "\n",
    "Гипотеза: Петербург — столица рэпа, музыку этого жанра там слушают чаще, чем в Москве.  А Москва — город контрастов, в котором, тем не менее, преобладает поп-музыка."
   ]
  },
  {
   "cell_type": "markdown",
   "metadata": {
    "deletable": false,
    "editable": false,
    "id": "DlegSvaT_Zcu",
    "tags": [
     "start_task"
    ]
   },
   "source": [
    "**Задание 26**"
   ]
  },
  {
   "cell_type": "code",
   "execution_count": 40,
   "metadata": {
    "deletable": false,
    "id": "r19lIPke_Zcu"
   },
   "outputs": [],
   "source": [
    "moscow_genre = moscow_general.groupby('genre')['genre'].count()# одной строкой: группировка таблицы moscow_general по столбцу 'genre', выбор столбца `genre`, подсчёт числа значений 'genre' методом count(), сохранение в moscow_genres\n",
    "moscow_genres = moscow_genre.sort_values(ascending=False)# сортировка получившегося Series в порядке убывания и сохранение обратно в moscow_genres"
   ]
  },
  {
   "cell_type": "markdown",
   "metadata": {
    "deletable": false,
    "editable": false,
    "id": "6kMuomxTiIr8",
    "tags": [
     "start_task"
    ]
   },
   "source": [
    "**Задание 27**"
   ]
  },
  {
   "cell_type": "code",
   "execution_count": 41,
   "metadata": {
    "deletable": false,
    "id": "WhCSooF8_Zcv"
   },
   "outputs": [
    {
     "data": {
      "text/plain": [
       "genre\n",
       "pop            5892\n",
       "dance          4435\n",
       "rock           3965\n",
       "electronic     3786\n",
       "hiphop         2096\n",
       "classical      1616\n",
       "world          1432\n",
       "alternative    1379\n",
       "ruspop         1372\n",
       "rusrap         1161\n",
       "Name: genre, dtype: int64"
      ]
     },
     "execution_count": 41,
     "metadata": {},
     "output_type": "execute_result"
    }
   ],
   "source": [
    "moscow_genres.head(10)# просмотр первых 10 строк moscow_genres"
   ]
  },
  {
   "cell_type": "markdown",
   "metadata": {
    "deletable": false,
    "editable": false,
    "id": "cnPG2vnN_Zcv",
    "tags": [
     "start_task"
    ]
   },
   "source": [
    "**Задание 28**"
   ]
  },
  {
   "cell_type": "code",
   "execution_count": 42,
   "metadata": {
    "deletable": false,
    "id": "gluLIpE7_Zcv"
   },
   "outputs": [],
   "source": [
    "spb_genre = spb_general.groupby('genre')['genre'].count()\n",
    "spb_genres = spb_genre.sort_values(ascending=False)# одной строкой: группировка таблицы spb_general по столбцу 'genre', выбор столбца `genre`, подсчёт числа значений 'genre' методом count(), сохранение в spb_genres\n",
    "# сортировка получившегося Series в порядке убывания и сохранение обратно в spb_genres"
   ]
  },
  {
   "cell_type": "markdown",
   "metadata": {
    "deletable": false,
    "editable": false,
    "id": "5Doha_ODgyQ8",
    "tags": [
     "start_task"
    ]
   },
   "source": [
    "**Задание 29**"
   ]
  },
  {
   "cell_type": "code",
   "execution_count": 43,
   "metadata": {
    "deletable": false,
    "id": "uaGJHjVU_Zcv"
   },
   "outputs": [
    {
     "data": {
      "text/plain": [
       "genre\n",
       "pop            2431\n",
       "dance          1932\n",
       "rock           1879\n",
       "electronic     1736\n",
       "hiphop          960\n",
       "alternative     649\n",
       "classical       646\n",
       "rusrap          564\n",
       "ruspop          538\n",
       "world           515\n",
       "Name: genre, dtype: int64"
      ]
     },
     "execution_count": 43,
     "metadata": {},
     "output_type": "execute_result"
    }
   ],
   "source": [
    "spb_genres.head(10)# просмотр первых 10 строк spb_genres"
   ]
  },
  {
   "cell_type": "markdown",
   "metadata": {
    "deletable": false,
    "editable": false,
    "id": "RY51YJYu_Zcv"
   },
   "source": [
    "**Выводы**"
   ]
  },
  {
   "cell_type": "markdown",
   "metadata": {
    "deletable": false,
    "editable": false,
    "id": "nVhnJEm__Zcv"
   },
   "source": [
    "Гипотеза частично подтвердилась:\n",
    "* Поп-музыка — самый популярный жанр в Москве, как и предполагала гипотеза. Более того, в топ-10 жанров встречается близкий жанр — русская популярная музыка.\n",
    "* Вопреки ожиданиям, рэп одинаково популярен в Москве и Петербурге.\n"
   ]
  },
  {
   "cell_type": "markdown",
   "metadata": {
    "deletable": false,
    "editable": false,
    "id": "ykKQ0N65_Zcv"
   },
   "source": [
    "## Итоги исследования"
   ]
  },
  {
   "cell_type": "markdown",
   "metadata": {
    "deletable": false,
    "editable": false,
    "id": "tjUwbHb3_Zcv"
   },
   "source": [
    "Вы проверили три гипотезы и установили:\n",
    "\n",
    "1. День недели по-разному влияет на активность пользователей в Москве и Петербурге.\n",
    "\n",
    "Первая гипотеза полностью подтвердилась.\n",
    "\n",
    "2. Музыкальные предпочтения не сильно меняются в течение недели — будь то Москва или Петербург. Небольшие различия заметны в начале недели, по понедельникам:\n",
    "* в Москве слушают музыку жанра “world”,\n",
    "* в Петербурге — джаз и классику.\n",
    "\n",
    "Таким образом, вторая гипотеза подтвердилась лишь отчасти. Этот результат мог оказаться иным, если бы не пропуски в данных.\n",
    "\n",
    "3. Во вкусах пользователей Москвы и Петербурга больше общего, чем различий. Вопреки ожиданиям, предпочтения жанров в Петербурге напоминают московские.\n",
    "\n",
    "Третья гипотеза не подтвердилась. Если различия в предпочтениях и существуют, на основной массе пользователей они незаметны.\n",
    "\n",
    "**На практике исследования содержат проверки статистических гипотез.**\n",
    "Из части данных одного сервиса невозможно сделать какие-то выводы о всех пользователях сервиса без методов статистики.\n",
    "Проверки статистических гипотез покажут, насколько они достоверны, исходя из имеющихся данных.\n",
    "С методами проверок гипотез вы ещё познакомитесь в следующих темах."
   ]
  }
 ],
 "metadata": {
  "ExecuteTimeLog": [
   {
    "duration": 42,
    "start_time": "2024-06-13T15:21:57.475Z"
   },
   {
    "duration": 5,
    "start_time": "2024-06-13T15:22:18.546Z"
   },
   {
    "duration": 5,
    "start_time": "2024-06-13T15:23:12.179Z"
   },
   {
    "duration": 4,
    "start_time": "2024-06-13T15:23:15.002Z"
   },
   {
    "duration": 5,
    "start_time": "2024-06-13T15:23:19.597Z"
   },
   {
    "duration": 5,
    "start_time": "2024-06-13T15:23:23.772Z"
   },
   {
    "duration": 5,
    "start_time": "2024-06-13T15:23:31.293Z"
   },
   {
    "duration": 5,
    "start_time": "2024-06-13T15:23:36.240Z"
   },
   {
    "duration": 6,
    "start_time": "2024-06-13T15:23:42.666Z"
   },
   {
    "duration": 5,
    "start_time": "2024-06-13T15:31:29.269Z"
   },
   {
    "duration": 5,
    "start_time": "2024-06-13T15:32:08.264Z"
   },
   {
    "duration": 375,
    "start_time": "2024-06-13T15:32:28.470Z"
   },
   {
    "duration": 214,
    "start_time": "2024-06-13T15:32:34.517Z"
   },
   {
    "duration": 26,
    "start_time": "2024-06-13T15:32:38.257Z"
   },
   {
    "duration": 15,
    "start_time": "2024-06-13T15:32:45.197Z"
   },
   {
    "duration": 21,
    "start_time": "2024-06-13T15:32:55.778Z"
   },
   {
    "duration": 1,
    "start_time": "2024-06-13T15:33:23.338Z"
   },
   {
    "duration": 3,
    "start_time": "2024-06-13T15:33:25.314Z"
   },
   {
    "duration": 8,
    "start_time": "2024-06-13T15:33:26.714Z"
   },
   {
    "duration": 4,
    "start_time": "2024-06-13T15:33:27.403Z"
   },
   {
    "duration": 19,
    "start_time": "2024-06-13T15:33:28.518Z"
   },
   {
    "duration": 14,
    "start_time": "2024-06-13T15:33:29.364Z"
   },
   {
    "duration": 19,
    "start_time": "2024-06-13T15:33:29.896Z"
   },
   {
    "duration": 56,
    "start_time": "2024-06-13T15:33:30.878Z"
   },
   {
    "duration": 65,
    "start_time": "2024-06-13T15:33:31.198Z"
   },
   {
    "duration": 50,
    "start_time": "2024-06-13T15:33:31.574Z"
   },
   {
    "duration": 37,
    "start_time": "2024-06-13T15:33:31.982Z"
   },
   {
    "duration": 9,
    "start_time": "2024-06-13T15:33:32.288Z"
   },
   {
    "duration": 8,
    "start_time": "2024-06-13T15:33:38.414Z"
   },
   {
    "duration": 3,
    "start_time": "2024-06-13T15:33:46.188Z"
   },
   {
    "duration": 9,
    "start_time": "2024-06-13T15:34:06.811Z"
   },
   {
    "duration": 15,
    "start_time": "2024-06-13T15:35:04.685Z"
   },
   {
    "duration": 7,
    "start_time": "2024-06-13T15:35:13.163Z"
   },
   {
    "duration": 9,
    "start_time": "2024-06-13T15:35:48.141Z"
   },
   {
    "duration": 13,
    "start_time": "2024-06-13T15:36:04.709Z"
   },
   {
    "duration": 8,
    "start_time": "2024-06-13T15:36:50.430Z"
   },
   {
    "duration": 36,
    "start_time": "2024-06-13T15:40:22.597Z"
   },
   {
    "duration": 24,
    "start_time": "2024-06-13T15:51:14.610Z"
   },
   {
    "duration": 22,
    "start_time": "2024-06-13T15:51:19.681Z"
   },
   {
    "duration": 24,
    "start_time": "2024-06-13T15:51:29.972Z"
   },
   {
    "duration": 14,
    "start_time": "2024-06-13T15:52:29.108Z"
   },
   {
    "duration": 9,
    "start_time": "2024-06-13T15:52:46.572Z"
   },
   {
    "duration": 62,
    "start_time": "2024-06-13T15:56:30.333Z"
   },
   {
    "duration": 9,
    "start_time": "2024-06-13T15:56:53.234Z"
   },
   {
    "duration": 9,
    "start_time": "2024-06-13T15:59:26.906Z"
   },
   {
    "duration": 23,
    "start_time": "2024-06-13T15:59:56.061Z"
   },
   {
    "duration": 7,
    "start_time": "2024-06-13T16:00:38.644Z"
   },
   {
    "duration": 14,
    "start_time": "2024-06-13T16:01:06.814Z"
   },
   {
    "duration": 3,
    "start_time": "2024-06-13T16:25:20.650Z"
   },
   {
    "duration": 3,
    "start_time": "2024-06-13T16:32:26.487Z"
   },
   {
    "duration": 7,
    "start_time": "2024-06-13T16:36:44.396Z"
   },
   {
    "duration": 34,
    "start_time": "2024-06-13T16:37:10.161Z"
   },
   {
    "duration": 35,
    "start_time": "2024-06-13T16:37:41.569Z"
   },
   {
    "duration": 38,
    "start_time": "2024-06-13T16:48:14.963Z"
   },
   {
    "duration": 11,
    "start_time": "2024-06-13T16:54:10.339Z"
   },
   {
    "duration": 8,
    "start_time": "2024-06-13T16:54:31.377Z"
   },
   {
    "duration": 455,
    "start_time": "2024-06-14T13:11:33.124Z"
   },
   {
    "duration": 458,
    "start_time": "2024-06-14T13:11:33.581Z"
   },
   {
    "duration": 18,
    "start_time": "2024-06-14T13:11:34.041Z"
   },
   {
    "duration": 34,
    "start_time": "2024-06-14T13:11:34.060Z"
   },
   {
    "duration": 2,
    "start_time": "2024-06-14T13:11:34.096Z"
   },
   {
    "duration": 8,
    "start_time": "2024-06-14T13:11:34.100Z"
   },
   {
    "duration": 38,
    "start_time": "2024-06-14T13:11:34.109Z"
   },
   {
    "duration": 5,
    "start_time": "2024-06-14T13:11:34.149Z"
   },
   {
    "duration": 31,
    "start_time": "2024-06-14T13:11:34.155Z"
   },
   {
    "duration": 37,
    "start_time": "2024-06-14T13:11:34.189Z"
   },
   {
    "duration": 39,
    "start_time": "2024-06-14T13:11:34.228Z"
   },
   {
    "duration": 139,
    "start_time": "2024-06-14T13:11:34.268Z"
   },
   {
    "duration": 92,
    "start_time": "2024-06-14T13:11:34.409Z"
   },
   {
    "duration": 101,
    "start_time": "2024-06-14T13:11:34.503Z"
   },
   {
    "duration": 74,
    "start_time": "2024-06-14T13:11:34.606Z"
   },
   {
    "duration": 14,
    "start_time": "2024-06-14T13:11:34.682Z"
   },
   {
    "duration": 75,
    "start_time": "2024-06-14T13:11:34.698Z"
   },
   {
    "duration": 14,
    "start_time": "2024-06-14T13:11:34.775Z"
   },
   {
    "duration": 35,
    "start_time": "2024-06-14T13:11:34.791Z"
   },
   {
    "duration": 4,
    "start_time": "2024-06-14T13:11:34.827Z"
   },
   {
    "duration": 28,
    "start_time": "2024-06-14T13:11:34.833Z"
   },
   {
    "duration": 4,
    "start_time": "2024-06-14T13:11:34.863Z"
   },
   {
    "duration": 4,
    "start_time": "2024-06-14T13:11:34.869Z"
   },
   {
    "duration": 6,
    "start_time": "2024-06-14T13:11:34.874Z"
   },
   {
    "duration": 14,
    "start_time": "2024-06-14T13:11:34.882Z"
   },
   {
    "duration": 4,
    "start_time": "2024-06-14T13:11:34.898Z"
   },
   {
    "duration": 23,
    "start_time": "2024-06-14T13:11:34.904Z"
   },
   {
    "duration": 29,
    "start_time": "2024-06-14T13:11:34.931Z"
   },
   {
    "duration": 10,
    "start_time": "2024-06-14T13:11:34.962Z"
   },
   {
    "duration": 67,
    "start_time": "2024-06-14T13:11:34.974Z"
   },
   {
    "duration": 0,
    "start_time": "2024-06-14T13:11:35.043Z"
   },
   {
    "duration": 0,
    "start_time": "2024-06-14T13:11:35.044Z"
   },
   {
    "duration": 0,
    "start_time": "2024-06-14T13:11:35.045Z"
   },
   {
    "duration": 0,
    "start_time": "2024-06-14T13:11:35.046Z"
   },
   {
    "duration": 0,
    "start_time": "2024-06-14T13:11:35.047Z"
   },
   {
    "duration": 0,
    "start_time": "2024-06-14T13:11:35.048Z"
   },
   {
    "duration": 0,
    "start_time": "2024-06-14T13:11:35.049Z"
   },
   {
    "duration": 0,
    "start_time": "2024-06-14T13:11:35.050Z"
   },
   {
    "duration": 4,
    "start_time": "2024-06-14T13:12:32.663Z"
   },
   {
    "duration": 4,
    "start_time": "2024-06-14T13:17:07.356Z"
   },
   {
    "duration": 3,
    "start_time": "2024-06-14T13:17:40.662Z"
   },
   {
    "duration": 96,
    "start_time": "2024-06-14T13:17:41.765Z"
   },
   {
    "duration": 3,
    "start_time": "2024-06-14T13:18:39.494Z"
   },
   {
    "duration": 13,
    "start_time": "2024-06-14T13:18:41.319Z"
   },
   {
    "duration": 13,
    "start_time": "2024-06-14T13:18:45.159Z"
   },
   {
    "duration": 12,
    "start_time": "2024-06-14T13:18:45.830Z"
   },
   {
    "duration": 11,
    "start_time": "2024-06-14T13:18:46.238Z"
   },
   {
    "duration": 13,
    "start_time": "2024-06-14T13:18:46.670Z"
   },
   {
    "duration": 12,
    "start_time": "2024-06-14T13:18:49.006Z"
   },
   {
    "duration": 3,
    "start_time": "2024-06-14T13:19:18.256Z"
   },
   {
    "duration": 9,
    "start_time": "2024-06-14T13:19:19.319Z"
   },
   {
    "duration": 9,
    "start_time": "2024-06-14T13:19:20.175Z"
   },
   {
    "duration": 8,
    "start_time": "2024-06-14T13:19:20.791Z"
   },
   {
    "duration": 10,
    "start_time": "2024-06-14T15:25:45.025Z"
   },
   {
    "duration": 49,
    "start_time": "2024-06-14T15:25:46.416Z"
   },
   {
    "duration": 448,
    "start_time": "2024-06-14T15:25:54.678Z"
   },
   {
    "duration": 275,
    "start_time": "2024-06-14T15:25:55.128Z"
   },
   {
    "duration": 18,
    "start_time": "2024-06-14T15:25:55.405Z"
   },
   {
    "duration": 36,
    "start_time": "2024-06-14T15:25:55.424Z"
   },
   {
    "duration": 3,
    "start_time": "2024-06-14T15:25:55.463Z"
   },
   {
    "duration": 10,
    "start_time": "2024-06-14T15:25:55.468Z"
   },
   {
    "duration": 15,
    "start_time": "2024-06-14T15:25:55.493Z"
   },
   {
    "duration": 6,
    "start_time": "2024-06-14T15:25:55.510Z"
   },
   {
    "duration": 45,
    "start_time": "2024-06-14T15:25:55.518Z"
   },
   {
    "duration": 44,
    "start_time": "2024-06-14T15:25:55.565Z"
   },
   {
    "duration": 27,
    "start_time": "2024-06-14T15:25:55.611Z"
   },
   {
    "duration": 82,
    "start_time": "2024-06-14T15:25:55.640Z"
   },
   {
    "duration": 87,
    "start_time": "2024-06-14T15:25:55.724Z"
   },
   {
    "duration": 66,
    "start_time": "2024-06-14T15:25:55.814Z"
   },
   {
    "duration": 48,
    "start_time": "2024-06-14T15:25:55.892Z"
   },
   {
    "duration": 12,
    "start_time": "2024-06-14T15:25:55.941Z"
   },
   {
    "duration": 67,
    "start_time": "2024-06-14T15:25:55.955Z"
   },
   {
    "duration": 13,
    "start_time": "2024-06-14T15:25:56.024Z"
   },
   {
    "duration": 13,
    "start_time": "2024-06-14T15:25:56.039Z"
   },
   {
    "duration": 4,
    "start_time": "2024-06-14T15:25:56.054Z"
   },
   {
    "duration": 941,
    "start_time": "2024-06-14T15:25:56.060Z"
   },
   {
    "duration": 0,
    "start_time": "2024-06-14T15:25:57.003Z"
   },
   {
    "duration": 0,
    "start_time": "2024-06-14T15:25:57.004Z"
   },
   {
    "duration": 0,
    "start_time": "2024-06-14T15:25:57.006Z"
   },
   {
    "duration": 0,
    "start_time": "2024-06-14T15:25:57.008Z"
   },
   {
    "duration": 0,
    "start_time": "2024-06-14T15:25:57.009Z"
   },
   {
    "duration": 1,
    "start_time": "2024-06-14T15:25:57.010Z"
   },
   {
    "duration": 0,
    "start_time": "2024-06-14T15:25:57.012Z"
   },
   {
    "duration": 0,
    "start_time": "2024-06-14T15:25:57.013Z"
   },
   {
    "duration": 0,
    "start_time": "2024-06-14T15:25:57.015Z"
   },
   {
    "duration": 0,
    "start_time": "2024-06-14T15:25:57.016Z"
   },
   {
    "duration": 0,
    "start_time": "2024-06-14T15:25:57.017Z"
   },
   {
    "duration": 0,
    "start_time": "2024-06-14T15:25:57.018Z"
   },
   {
    "duration": 0,
    "start_time": "2024-06-14T15:25:57.020Z"
   },
   {
    "duration": 0,
    "start_time": "2024-06-14T15:25:57.021Z"
   },
   {
    "duration": 0,
    "start_time": "2024-06-14T15:25:57.022Z"
   },
   {
    "duration": 0,
    "start_time": "2024-06-14T15:25:57.023Z"
   },
   {
    "duration": 0,
    "start_time": "2024-06-14T15:25:57.024Z"
   },
   {
    "duration": 4,
    "start_time": "2024-06-14T15:26:02.271Z"
   },
   {
    "duration": 877,
    "start_time": "2024-06-14T15:26:03.347Z"
   },
   {
    "duration": 430,
    "start_time": "2024-06-14T15:27:48.086Z"
   },
   {
    "duration": 191,
    "start_time": "2024-06-14T15:27:48.518Z"
   },
   {
    "duration": 19,
    "start_time": "2024-06-14T15:27:48.710Z"
   },
   {
    "duration": 36,
    "start_time": "2024-06-14T15:27:48.731Z"
   },
   {
    "duration": 22,
    "start_time": "2024-06-14T15:27:48.769Z"
   },
   {
    "duration": 10,
    "start_time": "2024-06-14T15:27:48.793Z"
   },
   {
    "duration": 12,
    "start_time": "2024-06-14T15:27:48.805Z"
   },
   {
    "duration": 12,
    "start_time": "2024-06-14T15:27:48.819Z"
   },
   {
    "duration": 41,
    "start_time": "2024-06-14T15:27:48.833Z"
   },
   {
    "duration": 24,
    "start_time": "2024-06-14T15:27:48.892Z"
   },
   {
    "duration": 31,
    "start_time": "2024-06-14T15:27:48.918Z"
   },
   {
    "duration": 94,
    "start_time": "2024-06-14T15:27:48.951Z"
   },
   {
    "duration": 99,
    "start_time": "2024-06-14T15:27:49.047Z"
   },
   {
    "duration": 75,
    "start_time": "2024-06-14T15:27:49.151Z"
   },
   {
    "duration": 74,
    "start_time": "2024-06-14T15:27:49.228Z"
   },
   {
    "duration": 20,
    "start_time": "2024-06-14T15:27:49.304Z"
   },
   {
    "duration": 68,
    "start_time": "2024-06-14T15:27:49.325Z"
   },
   {
    "duration": 13,
    "start_time": "2024-06-14T15:27:49.394Z"
   },
   {
    "duration": 18,
    "start_time": "2024-06-14T15:27:49.409Z"
   },
   {
    "duration": 4,
    "start_time": "2024-06-14T15:27:49.430Z"
   },
   {
    "duration": 972,
    "start_time": "2024-06-14T15:27:49.436Z"
   },
   {
    "duration": 0,
    "start_time": "2024-06-14T15:27:50.410Z"
   },
   {
    "duration": 0,
    "start_time": "2024-06-14T15:27:50.412Z"
   },
   {
    "duration": 1,
    "start_time": "2024-06-14T15:27:50.413Z"
   },
   {
    "duration": 1,
    "start_time": "2024-06-14T15:27:50.414Z"
   },
   {
    "duration": 0,
    "start_time": "2024-06-14T15:27:50.416Z"
   },
   {
    "duration": 0,
    "start_time": "2024-06-14T15:27:50.416Z"
   },
   {
    "duration": 0,
    "start_time": "2024-06-14T15:27:50.418Z"
   },
   {
    "duration": 0,
    "start_time": "2024-06-14T15:27:50.420Z"
   },
   {
    "duration": 0,
    "start_time": "2024-06-14T15:27:50.421Z"
   },
   {
    "duration": 0,
    "start_time": "2024-06-14T15:27:50.422Z"
   },
   {
    "duration": 0,
    "start_time": "2024-06-14T15:27:50.423Z"
   },
   {
    "duration": 0,
    "start_time": "2024-06-14T15:27:50.424Z"
   },
   {
    "duration": 0,
    "start_time": "2024-06-14T15:27:50.425Z"
   },
   {
    "duration": 0,
    "start_time": "2024-06-14T15:27:50.427Z"
   },
   {
    "duration": 0,
    "start_time": "2024-06-14T15:27:50.429Z"
   },
   {
    "duration": 0,
    "start_time": "2024-06-14T15:27:50.430Z"
   },
   {
    "duration": 0,
    "start_time": "2024-06-14T15:27:50.431Z"
   },
   {
    "duration": 4,
    "start_time": "2024-06-14T15:28:49.325Z"
   },
   {
    "duration": 18,
    "start_time": "2024-06-14T15:28:50.388Z"
   },
   {
    "duration": 52,
    "start_time": "2024-06-14T16:11:55.178Z"
   },
   {
    "duration": 97,
    "start_time": "2024-06-14T16:24:03.496Z"
   },
   {
    "duration": 12,
    "start_time": "2024-06-14T16:24:38.333Z"
   },
   {
    "duration": 7,
    "start_time": "2024-06-14T16:25:03.611Z"
   },
   {
    "duration": 7,
    "start_time": "2024-06-14T16:26:13.935Z"
   },
   {
    "duration": 18,
    "start_time": "2024-06-14T16:28:36.235Z"
   },
   {
    "duration": 24,
    "start_time": "2024-06-14T16:28:36.743Z"
   },
   {
    "duration": 15,
    "start_time": "2024-06-14T16:28:37.083Z"
   },
   {
    "duration": 17,
    "start_time": "2024-06-14T16:28:37.288Z"
   },
   {
    "duration": 17,
    "start_time": "2024-06-14T16:28:39.510Z"
   },
   {
    "duration": 6,
    "start_time": "2024-06-14T16:29:44.302Z"
   },
   {
    "duration": 9,
    "start_time": "2024-06-14T16:37:30.977Z"
   },
   {
    "duration": 8,
    "start_time": "2024-06-14T16:37:32.852Z"
   },
   {
    "duration": 12,
    "start_time": "2024-06-14T16:38:43.591Z"
   },
   {
    "duration": 7,
    "start_time": "2024-06-14T16:38:44.316Z"
   },
   {
    "duration": 7,
    "start_time": "2024-06-14T16:40:20.370Z"
   },
   {
    "duration": 13,
    "start_time": "2024-06-14T16:40:23.399Z"
   },
   {
    "duration": 7,
    "start_time": "2024-06-14T16:40:23.732Z"
   },
   {
    "duration": 46,
    "start_time": "2024-06-14T16:42:24.711Z"
   },
   {
    "duration": 61,
    "start_time": "2024-06-14T16:42:39.964Z"
   },
   {
    "duration": 43,
    "start_time": "2024-06-14T16:44:10.310Z"
   },
   {
    "duration": 48,
    "start_time": "2024-06-14T16:44:18.314Z"
   },
   {
    "duration": 43,
    "start_time": "2024-06-14T16:44:21.337Z"
   },
   {
    "duration": 55,
    "start_time": "2024-06-14T16:45:11.621Z"
   },
   {
    "duration": 52,
    "start_time": "2024-06-14T16:45:32.015Z"
   },
   {
    "duration": 3,
    "start_time": "2024-06-14T16:45:42.955Z"
   },
   {
    "duration": 20,
    "start_time": "2024-06-14T16:45:44.053Z"
   },
   {
    "duration": 16,
    "start_time": "2024-06-14T16:45:44.617Z"
   },
   {
    "duration": 18,
    "start_time": "2024-06-14T16:45:45.132Z"
   },
   {
    "duration": 15,
    "start_time": "2024-06-14T16:45:45.596Z"
   },
   {
    "duration": 18,
    "start_time": "2024-06-14T16:45:45.939Z"
   },
   {
    "duration": 15,
    "start_time": "2024-06-14T16:45:46.242Z"
   },
   {
    "duration": 44,
    "start_time": "2024-06-14T16:45:47.361Z"
   },
   {
    "duration": 12,
    "start_time": "2024-06-14T16:45:49.655Z"
   },
   {
    "duration": 7,
    "start_time": "2024-06-14T16:45:50.683Z"
   },
   {
    "duration": 54,
    "start_time": "2024-06-14T16:46:29.819Z"
   },
   {
    "duration": 55,
    "start_time": "2024-06-14T16:46:57.383Z"
   },
   {
    "duration": 56,
    "start_time": "2024-06-14T16:47:03.381Z"
   },
   {
    "duration": 54,
    "start_time": "2024-06-14T16:49:28.511Z"
   },
   {
    "duration": 45,
    "start_time": "2024-06-14T16:49:43.932Z"
   },
   {
    "duration": 12,
    "start_time": "2024-06-14T16:49:45.964Z"
   },
   {
    "duration": 7,
    "start_time": "2024-06-14T16:49:46.258Z"
   },
   {
    "duration": 49,
    "start_time": "2024-06-14T16:50:59.187Z"
   },
   {
    "duration": 389,
    "start_time": "2024-06-14T16:52:01.639Z"
   },
   {
    "duration": 204,
    "start_time": "2024-06-14T16:52:02.030Z"
   },
   {
    "duration": 19,
    "start_time": "2024-06-14T16:52:02.235Z"
   },
   {
    "duration": 43,
    "start_time": "2024-06-14T16:52:02.255Z"
   },
   {
    "duration": 3,
    "start_time": "2024-06-14T16:52:02.302Z"
   },
   {
    "duration": 7,
    "start_time": "2024-06-14T16:52:02.306Z"
   },
   {
    "duration": 23,
    "start_time": "2024-06-14T16:52:02.315Z"
   },
   {
    "duration": 18,
    "start_time": "2024-06-14T16:52:02.339Z"
   },
   {
    "duration": 29,
    "start_time": "2024-06-14T16:52:02.359Z"
   },
   {
    "duration": 22,
    "start_time": "2024-06-14T16:52:02.391Z"
   },
   {
    "duration": 31,
    "start_time": "2024-06-14T16:52:02.415Z"
   },
   {
    "duration": 91,
    "start_time": "2024-06-14T16:52:02.447Z"
   },
   {
    "duration": 87,
    "start_time": "2024-06-14T16:52:02.540Z"
   },
   {
    "duration": 72,
    "start_time": "2024-06-14T16:52:02.630Z"
   },
   {
    "duration": 47,
    "start_time": "2024-06-14T16:52:02.703Z"
   },
   {
    "duration": 11,
    "start_time": "2024-06-14T16:52:02.752Z"
   },
   {
    "duration": 62,
    "start_time": "2024-06-14T16:52:02.765Z"
   },
   {
    "duration": 14,
    "start_time": "2024-06-14T16:52:02.829Z"
   },
   {
    "duration": 11,
    "start_time": "2024-06-14T16:52:02.845Z"
   },
   {
    "duration": 21,
    "start_time": "2024-06-14T16:52:02.858Z"
   },
   {
    "duration": 31,
    "start_time": "2024-06-14T16:52:02.881Z"
   },
   {
    "duration": 15,
    "start_time": "2024-06-14T16:52:02.914Z"
   },
   {
    "duration": 16,
    "start_time": "2024-06-14T16:52:02.931Z"
   },
   {
    "duration": 15,
    "start_time": "2024-06-14T16:52:02.949Z"
   },
   {
    "duration": 39,
    "start_time": "2024-06-14T16:52:02.965Z"
   },
   {
    "duration": 15,
    "start_time": "2024-06-14T16:52:03.005Z"
   },
   {
    "duration": 51,
    "start_time": "2024-06-14T16:52:03.022Z"
   },
   {
    "duration": 0,
    "start_time": "2024-06-14T16:52:03.075Z"
   },
   {
    "duration": 0,
    "start_time": "2024-06-14T16:52:03.076Z"
   },
   {
    "duration": 0,
    "start_time": "2024-06-14T16:52:03.077Z"
   },
   {
    "duration": 0,
    "start_time": "2024-06-14T16:52:03.078Z"
   },
   {
    "duration": 0,
    "start_time": "2024-06-14T16:52:03.080Z"
   },
   {
    "duration": 0,
    "start_time": "2024-06-14T16:52:03.081Z"
   },
   {
    "duration": 0,
    "start_time": "2024-06-14T16:52:03.082Z"
   },
   {
    "duration": 0,
    "start_time": "2024-06-14T16:52:03.083Z"
   },
   {
    "duration": 1,
    "start_time": "2024-06-14T16:52:03.083Z"
   },
   {
    "duration": 0,
    "start_time": "2024-06-14T16:52:03.085Z"
   },
   {
    "duration": 0,
    "start_time": "2024-06-14T16:52:03.086Z"
   },
   {
    "duration": 46,
    "start_time": "2024-06-14T16:52:17.996Z"
   },
   {
    "duration": 10,
    "start_time": "2024-06-14T16:54:23.280Z"
   },
   {
    "duration": 17,
    "start_time": "2024-06-14T16:57:15.067Z"
   },
   {
    "duration": 9,
    "start_time": "2024-06-14T16:57:33.287Z"
   },
   {
    "duration": 14,
    "start_time": "2024-06-14T16:57:57.392Z"
   },
   {
    "duration": 14,
    "start_time": "2024-06-14T16:58:14.544Z"
   },
   {
    "duration": 10,
    "start_time": "2024-06-14T16:58:15.849Z"
   },
   {
    "duration": 52,
    "start_time": "2024-06-14T17:11:43.117Z"
   },
   {
    "duration": 4,
    "start_time": "2024-06-14T17:11:55.709Z"
   },
   {
    "duration": 4,
    "start_time": "2024-06-14T17:11:58.232Z"
   },
   {
    "duration": 5,
    "start_time": "2024-06-14T17:15:31.167Z"
   },
   {
    "duration": 4,
    "start_time": "2024-06-14T17:28:08.173Z"
   },
   {
    "duration": 102,
    "start_time": "2024-06-14T17:32:34.165Z"
   },
   {
    "duration": 19,
    "start_time": "2024-06-14T17:32:42.693Z"
   },
   {
    "duration": 415,
    "start_time": "2024-06-14T17:32:48.764Z"
   },
   {
    "duration": 198,
    "start_time": "2024-06-14T17:32:49.181Z"
   },
   {
    "duration": 27,
    "start_time": "2024-06-14T17:32:49.381Z"
   },
   {
    "duration": 49,
    "start_time": "2024-06-14T17:32:49.410Z"
   },
   {
    "duration": 2,
    "start_time": "2024-06-14T17:32:49.461Z"
   },
   {
    "duration": 6,
    "start_time": "2024-06-14T17:32:49.465Z"
   },
   {
    "duration": 21,
    "start_time": "2024-06-14T17:32:49.473Z"
   },
   {
    "duration": 5,
    "start_time": "2024-06-14T17:32:49.504Z"
   },
   {
    "duration": 38,
    "start_time": "2024-06-14T17:32:49.512Z"
   },
   {
    "duration": 22,
    "start_time": "2024-06-14T17:32:49.552Z"
   },
   {
    "duration": 46,
    "start_time": "2024-06-14T17:32:49.576Z"
   },
   {
    "duration": 88,
    "start_time": "2024-06-14T17:32:49.623Z"
   },
   {
    "duration": 108,
    "start_time": "2024-06-14T17:32:49.713Z"
   },
   {
    "duration": 97,
    "start_time": "2024-06-14T17:32:49.824Z"
   },
   {
    "duration": 50,
    "start_time": "2024-06-14T17:32:49.923Z"
   },
   {
    "duration": 25,
    "start_time": "2024-06-14T17:32:49.975Z"
   },
   {
    "duration": 84,
    "start_time": "2024-06-14T17:32:50.003Z"
   },
   {
    "duration": 16,
    "start_time": "2024-06-14T17:32:50.088Z"
   },
   {
    "duration": 14,
    "start_time": "2024-06-14T17:32:50.108Z"
   },
   {
    "duration": 3,
    "start_time": "2024-06-14T17:32:50.124Z"
   },
   {
    "duration": 23,
    "start_time": "2024-06-14T17:32:50.128Z"
   },
   {
    "duration": 47,
    "start_time": "2024-06-14T17:32:50.153Z"
   },
   {
    "duration": 21,
    "start_time": "2024-06-14T17:32:50.203Z"
   },
   {
    "duration": 16,
    "start_time": "2024-06-14T17:32:50.225Z"
   },
   {
    "duration": 18,
    "start_time": "2024-06-14T17:32:50.243Z"
   },
   {
    "duration": 47,
    "start_time": "2024-06-14T17:32:50.263Z"
   },
   {
    "duration": 10,
    "start_time": "2024-06-14T17:32:50.311Z"
   },
   {
    "duration": 22,
    "start_time": "2024-06-14T17:32:50.322Z"
   },
   {
    "duration": 10,
    "start_time": "2024-06-14T17:32:50.346Z"
   },
   {
    "duration": 4,
    "start_time": "2024-06-14T17:32:50.358Z"
   },
   {
    "duration": 44,
    "start_time": "2024-06-14T17:32:50.364Z"
   },
   {
    "duration": 13,
    "start_time": "2024-06-14T17:32:50.409Z"
   },
   {
    "duration": 20,
    "start_time": "2024-06-14T17:32:50.423Z"
   },
   {
    "duration": 17,
    "start_time": "2024-06-14T17:32:50.445Z"
   },
   {
    "duration": 2,
    "start_time": "2024-06-14T17:32:50.464Z"
   },
   {
    "duration": 2,
    "start_time": "2024-06-14T17:32:50.493Z"
   },
   {
    "duration": 24,
    "start_time": "2024-06-14T17:32:50.498Z"
   },
   {
    "duration": 18,
    "start_time": "2024-06-14T17:32:50.524Z"
   },
   {
    "duration": 66,
    "start_time": "2024-06-14T17:49:08.501Z"
   },
   {
    "duration": 10,
    "start_time": "2024-06-14T17:49:13.385Z"
   },
   {
    "duration": 5,
    "start_time": "2024-06-14T17:49:14.480Z"
   },
   {
    "duration": 9,
    "start_time": "2024-06-14T17:49:15.985Z"
   },
   {
    "duration": 6,
    "start_time": "2024-06-14T17:49:16.994Z"
   }
  ],
  "celltoolbar": "Отсутствует",
  "colab": {
   "collapsed_sections": [
    "E0vqbgi9ay0H",
    "VUC88oWjTJw2"
   ],
   "provenance": []
  },
  "kernelspec": {
   "display_name": "Python 3 (ipykernel)",
   "language": "python",
   "name": "python3"
  },
  "language_info": {
   "codemirror_mode": {
    "name": "ipython",
    "version": 3
   },
   "file_extension": ".py",
   "mimetype": "text/x-python",
   "name": "python",
   "nbconvert_exporter": "python",
   "pygments_lexer": "ipython3",
   "version": "3.9.5"
  },
  "toc": {
   "base_numbering": 1,
   "nav_menu": {
    "height": "215px",
    "width": "403px"
   },
   "number_sections": true,
   "sideBar": true,
   "skip_h1_title": true,
   "title_cell": "Table of Contents",
   "title_sidebar": "Contents",
   "toc_cell": false,
   "toc_position": {
    "height": "calc(100% - 180px)",
    "left": "10px",
    "top": "150px",
    "width": "285.825px"
   },
   "toc_section_display": true,
   "toc_window_display": false
  }
 },
 "nbformat": 4,
 "nbformat_minor": 1
}
